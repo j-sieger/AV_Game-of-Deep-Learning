{
 "cells": [
  {
   "cell_type": "code",
   "execution_count": 1,
   "metadata": {},
   "outputs": [
    {
     "name": "stderr",
     "output_type": "stream",
     "text": [
      "C:\\Users\\JanU\\Anaconda3\\lib\\site-packages\\h5py\\__init__.py:36: FutureWarning: Conversion of the second argument of issubdtype from `float` to `np.floating` is deprecated. In future, it will be treated as `np.float64 == np.dtype(float).type`.\n",
      "  from ._conv import register_converters as _register_converters\n",
      "Using TensorFlow backend.\n"
     ]
    }
   ],
   "source": [
    "from keras.preprocessing import image\n",
    "from keras.applications.resnet50 import ResNet50\n",
    "from keras.applications.resnet50 import preprocess_input\n",
    "import numpy as np\n",
    "\n",
    "class ImageToVec():\n",
    "    \n",
    "    def __init__(self):\n",
    "        '''\n",
    "        Constructor for SenttoVec to convert image into fixed length vectors with length 4096\n",
    "        '''\n",
    "        self.model = self.create_model()\n",
    "    \n",
    "    def get_vector(self,image_path):\n",
    "        '''\n",
    "        This method is used to pre-process the input image and return corresponding vector.\n",
    "        Input: image_path: path where image is located.\n",
    "        Returns: vector representation of the image.\n",
    "        '''\n",
    "        #Loading Image\n",
    "        img = image.load_img(image_path, target_size=(250, 250))\n",
    "        img_data = image.img_to_array(img)\n",
    "        #Adding batch size dimension to the image shape to able to forward pass thorugh model\n",
    "        img_data = np.expand_dims(img_data, axis=0)\n",
    "        img_data = preprocess_input(img_data)\n",
    "        im_vec = self.model.predict(img_data)\n",
    "        #print(im_vec.shape)\n",
    "        #Reshaping 4 dimensional image vector into single dimensional vector\n",
    "        im_vec = im_vec.squeeze()\n",
    "        im_vec = im_vec.reshape(im_vec.shape[0]*im_vec.shape[1]*im_vec.shape[2])\n",
    "        return im_vec\n",
    "        \n",
    "    def create_model(self):\n",
    "        '''\n",
    "        This method is used to build model with pretrained ResNet50.\n",
    "        Returns: model\n",
    "        '''\n",
    "        model = ResNet50(weights='imagenet', include_top=False)\n",
    "        return model"
   ]
  },
  {
   "cell_type": "code",
   "execution_count": null,
   "metadata": {},
   "outputs": [
    {
     "name": "stderr",
     "output_type": "stream",
     "text": [
      "C:\\Users\\JanU\\Anaconda3\\lib\\site-packages\\keras_applications\\resnet50.py:265: UserWarning: The output shape of `ResNet50(include_top=False)` has been changed since Keras 2.2.0.\n",
      "  warnings.warn('The output shape of `ResNet50(include_top=False)` '\n"
     ]
    },
    {
     "name": "stdout",
     "output_type": "stream",
     "text": [
      "Downloading data from https://github.com/fchollet/deep-learning-models/releases/download/v0.2/resnet50_weights_tf_dim_ordering_tf_kernels_notop.h5\n",
      "25837568/94653016 [=======>......................] - ETA: 1:07"
     ]
    }
   ],
   "source": [
    "img_vec = ImageToVec()"
   ]
  },
  {
   "cell_type": "code",
   "execution_count": null,
   "metadata": {},
   "outputs": [],
   "source": []
  }
 ],
 "metadata": {
  "kernelspec": {
   "display_name": "Python 3",
   "language": "python",
   "name": "python3"
  },
  "language_info": {
   "codemirror_mode": {
    "name": "ipython",
    "version": 3
   },
   "file_extension": ".py",
   "mimetype": "text/x-python",
   "name": "python",
   "nbconvert_exporter": "python",
   "pygments_lexer": "ipython3",
   "version": "3.6.5"
  }
 },
 "nbformat": 4,
 "nbformat_minor": 2
}
